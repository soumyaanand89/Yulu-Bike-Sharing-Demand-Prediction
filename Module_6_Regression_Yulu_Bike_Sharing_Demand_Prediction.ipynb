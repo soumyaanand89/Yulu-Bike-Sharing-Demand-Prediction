{
  "nbformat": 4,
  "nbformat_minor": 0,
  "metadata": {
    "colab": {
      "private_outputs": true,
      "provenance": [],
      "collapsed_sections": [
        "w6K7xa23Elo4",
        "yQaldy8SH6Dl",
        "mDgbUHAGgjLW",
        "3RnN4peoiCZX",
        "x71ZqKXriCWQ",
        "7hBIi_osiCS2",
        "JlHwYmJAmNHm",
        "35m5QtbWiB9F",
        "PoPl-ycgm1ru",
        "H0kj-8xxnORC",
        "PBTbrJXOngz2",
        "K5QZ13OEpz2H",
        "t6dVpIINYklI",
        "-JiQyfWJYklI",
        "id1riN9m0vUs",
        "578E2V7j08f6",
        "89xtkJwZ18nB",
        "-oLEiFgy-5Pf",
        "rMDnDkt2B6du",
        "4qY1EAkEfxKe",
        "JWYfwnehpsJ1",
        "-jK_YjpMpsJ2",
        "gIfDvo9L0UH2"
      ]
    },
    "kernelspec": {
      "name": "python3",
      "display_name": "Python 3"
    },
    "language_info": {
      "name": "python"
    }
  },
  "cells": [
    {
      "cell_type": "markdown",
      "source": [
        "# **Project Name**    - Yulu Bike Sharing Demand Prediction- Regression"
      ],
      "metadata": {
        "id": "vncDsAP0Gaoa"
      }
    },
    {
      "cell_type": "markdown",
      "source": [
        "##### **Project Type**    - Regression\n",
        "##### **Contribution**    - Individual"
      ],
      "metadata": {
        "id": "beRrZCGUAJYm"
      }
    },
    {
      "cell_type": "markdown",
      "source": [
        "# **Project Summary -**"
      ],
      "metadata": {
        "id": "FJNUwmbgGyua"
      }
    },
    {
      "cell_type": "markdown",
      "source": [
        "Rental bikes have been introduced in many urban cities to enhance mobility and convenience. Ensuring the availability and accessibility of rental bikes at the right time is essential, as it reduces waiting times and provides a consistent supply across the city. A key challenge is predicting the number of bikes needed each hour to maintain a steady supply. To address this, data mining techniques are used to predict hourly rental bike demand.\n",
        "\n",
        "This project focuses on building models to forecast hourly bike demand using the **Seoul Bike Rental dataset, available on Kaggle**. The dataset includes weather-related factors (such as **temperature, humidity, wind speed, visibility, dew point, solar radiation, snowfall, and rainfall**), along with the **number of bikes rented per hour and date information**. **Regression models were trained with optimal hyperparameters using repeated cross-validation**, and their performance was evaluated on a testing set."
      ],
      "metadata": {
        "id": "F6v_1wHtG2nS"
      }
    },
    {
      "cell_type": "markdown",
      "source": [
        "# **GitHub Link -**"
      ],
      "metadata": {
        "id": "w6K7xa23Elo4"
      }
    },
    {
      "cell_type": "markdown",
      "source": [
        "Provide your GitHub Link here."
      ],
      "metadata": {
        "id": "h1o69JH3Eqqn"
      }
    },
    {
      "cell_type": "markdown",
      "source": [
        "# **Problem Statement**\n"
      ],
      "metadata": {
        "id": "yQaldy8SH6Dl"
      }
    },
    {
      "cell_type": "markdown",
      "source": [
        "Accurately predict the hourly demand for rental bikes in urban cities, using the Seoul Bike Rental dataset. This involves building regression models based on weather data and rental history to ensure the timely availability of bikes, reduce waiting times, and maintain a stable supply across the city."
      ],
      "metadata": {
        "id": "DpeJGUA3kjGy"
      }
    },
    {
      "cell_type": "markdown",
      "source": [
        "# **General Guidelines** : -  "
      ],
      "metadata": {
        "id": "mDgbUHAGgjLW"
      }
    },
    {
      "cell_type": "markdown",
      "source": [
        "1.   Well-structured, formatted, and commented code is required.\n",
        "2.   Exception Handling, Production Grade Code & Deployment Ready Code will be a plus. Those students will be awarded some additional credits.\n",
        "     \n",
        "     The additional credits will have advantages over other students during Star Student selection.\n",
        "       \n",
        "             [ Note: - Deployment Ready Code is defined as, the whole .ipynb notebook should be executable in one go\n",
        "                       without a single error logged. ]\n",
        "\n",
        "3.   Each and every logic should have proper comments.\n",
        "4. You may add as many number of charts you want. Make Sure for each and every chart the following format should be answered.\n",
        "        \n",
        "\n",
        "```\n",
        "# Chart visualization code\n",
        "```\n",
        "            \n",
        "\n",
        "*   Why did you pick the specific chart?\n",
        "*   What is/are the insight(s) found from the chart?\n",
        "* Will the gained insights help creating a positive business impact?\n",
        "Are there any insights that lead to negative growth? Justify with specific reason.\n",
        "\n",
        "5. You have to create at least 15 logical & meaningful charts having important insights.\n",
        "\n",
        "\n",
        "[ Hints : - Do the Vizualization in  a structured way while following \"UBM\" Rule.\n",
        "\n",
        "U - Univariate Analysis,\n",
        "\n",
        "B - Bivariate Analysis (Numerical - Categorical, Numerical - Numerical, Categorical - Categorical)\n",
        "\n",
        "M - Multivariate Analysis\n",
        " ]\n",
        "\n",
        "\n",
        "\n",
        "\n",
        "\n",
        "6. You may add more ml algorithms for model creation. Make sure for each and every algorithm, the following format should be answered.\n",
        "\n",
        "\n",
        "*   Explain the ML Model used and it's performance using Evaluation metric Score Chart.\n",
        "\n",
        "\n",
        "*   Cross- Validation & Hyperparameter Tuning\n",
        "\n",
        "*   Have you seen any improvement? Note down the improvement with updates Evaluation metric Score Chart.\n",
        "\n",
        "*   Explain each evaluation metric's indication towards business and the business impact pf the ML model used.\n",
        "\n",
        "\n",
        "\n",
        "\n",
        "\n",
        "\n",
        "\n",
        "\n",
        "\n",
        "\n",
        "\n",
        "\n",
        "\n",
        "\n",
        "\n",
        "\n",
        "\n",
        "\n"
      ],
      "metadata": {
        "id": "ZrxVaUj-hHfC"
      }
    },
    {
      "cell_type": "markdown",
      "source": [
        "# ***Let's Begin !***"
      ],
      "metadata": {
        "id": "O_i_v8NEhb9l"
      }
    },
    {
      "cell_type": "markdown",
      "source": [
        "## ***1. Know Your Data***"
      ],
      "metadata": {
        "id": "HhfV-JJviCcP"
      }
    },
    {
      "cell_type": "markdown",
      "source": [
        "### Import Libraries"
      ],
      "metadata": {
        "id": "Y3lxredqlCYt"
      }
    },
    {
      "cell_type": "code",
      "source": [
        "import matplotlib.pyplot as plt\n",
        "%matplotlib inline\n",
        "import seaborn as sns\n",
        "sns.set_style(\"ticks\")\n",
        "sns.set_context(\"poster\");\n",
        "import plotly.express as px\n",
        "from scipy.stats import norm, ttest_ind, mannwhitneyu, pearsonr\n",
        "import pandas as pd\n",
        "import numpy as np\n",
        "import tensorflow as tf\n",
        "from datetime import datetime\n",
        "import calendar\n",
        "from sklearn.preprocessing import StandardScaler,MinMaxScaler\n",
        "from sklearn.preprocessing import  LabelEncoder\n",
        "from sklearn.preprocessing import PowerTransformer\n",
        "from sklearn.feature_selection import SelectKBest\n",
        "from sklearn.feature_selection import f_regression\n",
        "from sklearn.linear_model import Lasso, Ridge, LinearRegression, ElasticNet\n",
        "from sklearn.tree import DecisionTreeRegressor, ExtraTreeRegressor\n",
        "from sklearn.ensemble import RandomForestRegressor, GradientBoostingRegressor,BaggingRegressor\n",
        "from sklearn.neighbors import KNeighborsRegressor\n",
        "from sklearn import neighbors\n",
        "from lightgbm import LGBMRegressor\n",
        "import lightgbm\n",
        "from xgboost import XGBRegressor\n",
        "from statsmodels.stats.outliers_influence import variance_inflation_factor\n",
        "import statsmodels.api as sm\n",
        "from sklearn.model_selection import train_test_split\n",
        "from sklearn.model_selection import GridSearchCV\n",
        "from sklearn.model_selection import RandomizedSearchCV\n",
        "from sklearn.model_selection import cross_val_score\n",
        "from sklearn import metrics\n",
        "from sklearn.metrics import r2_score\n",
        "from sklearn.metrics import mean_squared_error\n",
        "from sklearn.metrics import mean_absolute_error\n",
        "pd.options.display.max_rows = 50\n",
        "pd.options.display.float_format = \"{:.3f}\".format\n",
        "import warnings\n",
        "warnings.filterwarnings('ignore')"
      ],
      "metadata": {
        "id": "M8Vqi-pPk-HR"
      },
      "execution_count": null,
      "outputs": []
    },
    {
      "cell_type": "markdown",
      "source": [
        "### Dataset Loading"
      ],
      "metadata": {
        "id": "3RnN4peoiCZX"
      }
    },
    {
      "cell_type": "code",
      "source": [
        "# Load Dataset\n",
        "from google.colab import drive\n",
        "drive.mount('/content/drive')"
      ],
      "metadata": {
        "id": "4CkvbW_SlZ_R"
      },
      "execution_count": null,
      "outputs": []
    },
    {
      "cell_type": "code",
      "source": [
        "# Load Dataset\n",
        "\n",
        "train_file_path = \"/content/drive/MyDrive/AlmaBetter Projects/SeoulBikeData.csv\"\n",
        "df = pd.read_csv(train_file_path,encoding='ISO-8859-1')"
      ],
      "metadata": {
        "id": "eEMQQvdbDTlG"
      },
      "execution_count": null,
      "outputs": []
    },
    {
      "cell_type": "markdown",
      "source": [
        "### Dataset First View"
      ],
      "metadata": {
        "id": "x71ZqKXriCWQ"
      }
    },
    {
      "cell_type": "code",
      "source": [
        "# Dataset First Look\n",
        "df.head()"
      ],
      "metadata": {
        "id": "LWNFOSvLl09H"
      },
      "execution_count": null,
      "outputs": []
    },
    {
      "cell_type": "markdown",
      "source": [
        "### Dataset Rows & Columns count"
      ],
      "metadata": {
        "id": "7hBIi_osiCS2"
      }
    },
    {
      "cell_type": "code",
      "source": [
        "# Dataset Rows & Columns count\n",
        "df.shape"
      ],
      "metadata": {
        "id": "Kllu7SJgmLij"
      },
      "execution_count": null,
      "outputs": []
    },
    {
      "cell_type": "markdown",
      "source": [
        "### Dataset Information"
      ],
      "metadata": {
        "id": "JlHwYmJAmNHm"
      }
    },
    {
      "cell_type": "code",
      "source": [
        "# Dataset Info\n",
        "df.info()"
      ],
      "metadata": {
        "id": "e9hRXRi6meOf"
      },
      "execution_count": null,
      "outputs": []
    },
    {
      "cell_type": "code",
      "source": [
        "print(df['Rented_Bike_Count'].dtype)\n"
      ],
      "metadata": {
        "id": "gEEAEgfSUs1s"
      },
      "execution_count": null,
      "outputs": []
    },
    {
      "cell_type": "markdown",
      "source": [
        "#### Duplicate Values"
      ],
      "metadata": {
        "id": "35m5QtbWiB9F"
      }
    },
    {
      "cell_type": "code",
      "source": [
        "# Dataset Duplicate Value Count\n",
        "len(df[df.duplicated()])"
      ],
      "metadata": {
        "id": "1sLdpKYkmox0"
      },
      "execution_count": null,
      "outputs": []
    },
    {
      "cell_type": "markdown",
      "source": [
        "#### Missing Values/Null Values"
      ],
      "metadata": {
        "id": "PoPl-ycgm1ru"
      }
    },
    {
      "cell_type": "code",
      "source": [
        "# Missing Values/Null Values Count\n",
        "print(df.isnull().sum())"
      ],
      "metadata": {
        "id": "GgHWkxvamxVg"
      },
      "execution_count": null,
      "outputs": []
    },
    {
      "cell_type": "code",
      "source": [
        "# Visualizing the missing values\n",
        "sns.heatmap(df.isnull(), cbar=False)"
      ],
      "metadata": {
        "id": "3q5wnI3om9sJ"
      },
      "execution_count": null,
      "outputs": []
    },
    {
      "cell_type": "markdown",
      "source": [
        "### What did you know about your dataset?"
      ],
      "metadata": {
        "id": "H0kj-8xxnORC"
      }
    },
    {
      "cell_type": "markdown",
      "source": [
        "* The dataset contains 8760 rows and 14 columns.\n",
        "* There are no duplicate values in the data.\n",
        "* There are no missing values in the data."
      ],
      "metadata": {
        "id": "gfoNAAC-nUe_"
      }
    },
    {
      "cell_type": "markdown",
      "source": [
        "## ***2. Understanding Your Variables***"
      ],
      "metadata": {
        "id": "nA9Y7ga8ng1Z"
      }
    },
    {
      "cell_type": "code",
      "source": [
        "# Dataset Columns\n",
        "df.columns"
      ],
      "metadata": {
        "id": "j7xfkqrt5Ag5"
      },
      "execution_count": null,
      "outputs": []
    },
    {
      "cell_type": "code",
      "source": [
        "# Dataset Describe\n",
        "df.describe()"
      ],
      "metadata": {
        "id": "DnOaZdaE5Q5t"
      },
      "execution_count": null,
      "outputs": []
    },
    {
      "cell_type": "markdown",
      "source": [
        "### Variables Description"
      ],
      "metadata": {
        "id": "PBTbrJXOngz2"
      }
    },
    {
      "cell_type": "markdown",
      "source": [
        "* **Date** : year-month-day\n",
        "* **Rented_Bike_Count** - Count of bikes rented at each hour\n",
        "* **Hour** - Hour of he day\n",
        "* **Temperature**-Temperature in Celsius\n",
        "* **Humidity** - %\n",
        "* **Windspeed** - m/s\n",
        "* **Visibility** - 10m\n",
        "* **Dew point temperature** - Celsius\n",
        "* **Solar radiation** - MJ/m2\n",
        "* **Rainfall** - mm\n",
        "* **Snowfall** - cm\n",
        "* **Seasons** - Winter, Spring, Summer, Autumn\n",
        "* **Holiday** - Holiday/No holiday\n",
        "* **Functional Day** - NoFunc(Non Functional Hours), Fun(Functional hours)"
      ],
      "metadata": {
        "id": "aJV4KIxSnxay"
      }
    },
    {
      "cell_type": "markdown",
      "source": [
        "### Check Unique Values for each variable."
      ],
      "metadata": {
        "id": "u3PMJOP6ngxN"
      }
    },
    {
      "cell_type": "code",
      "source": [
        "# Check Unique Values for each variable.\n",
        "df.nunique().sort_values(ascending=True)"
      ],
      "metadata": {
        "id": "zms12Yq5n-jE"
      },
      "execution_count": null,
      "outputs": []
    },
    {
      "cell_type": "markdown",
      "source": [
        "## 3. ***Data Wrangling***"
      ],
      "metadata": {
        "id": "dauF4eBmngu3"
      }
    },
    {
      "cell_type": "markdown",
      "source": [
        "### Data Wrangling Code"
      ],
      "metadata": {
        "id": "bKJF3rekwFvQ"
      }
    },
    {
      "cell_type": "markdown",
      "source": [
        "Changing the data types"
      ],
      "metadata": {
        "id": "CFT_WcsgJlUt"
      }
    },
    {
      "cell_type": "code",
      "source": [
        "# Write your code to make your dataset analysis ready.\n",
        "# Change the data types\n",
        "df['Date'] = pd.to_datetime(df['Date'], format='%d/%m/%Y')         # Convert to datetime\n",
        "df['Seasons'] = df['Seasons'].astype('category')  # Convert to category\n",
        "df['Holiday'] = df['Holiday'].astype('category')  # Convert to category\n",
        "df['Functioning_Day'] = df['Functioning_Day'].astype('category')  # Convert to category"
      ],
      "metadata": {
        "id": "wk-9a2fpoLcV"
      },
      "execution_count": null,
      "outputs": []
    },
    {
      "cell_type": "markdown",
      "source": [
        "Extracting date, month, year from date and adding to dataset"
      ],
      "metadata": {
        "id": "scZi5tx7Jp1b"
      }
    },
    {
      "cell_type": "code",
      "source": [
        "#Extracting month from date column\n",
        "df['month'] = pd.DatetimeIndex(df['Date']).month\n",
        "df['month'] = df['month'].apply(lambda x: calendar.month_abbr[x])\n",
        "\n",
        "#Extracting day name from date\n",
        "df['day'] = df['Date'].dt.day_name()\n",
        "\n",
        "#Extracting year\n",
        "df['year'] = df['Date'].dt.year"
      ],
      "metadata": {
        "id": "4lPzAp-YJkV_"
      },
      "execution_count": null,
      "outputs": []
    },
    {
      "cell_type": "markdown",
      "source": [
        "Count total number of different value in specific column"
      ],
      "metadata": {
        "id": "ozodT1yKKrKw"
      }
    },
    {
      "cell_type": "code",
      "source": [
        "def total(df,var):\n",
        "  total = len(df[var].value_counts())\n",
        "  return total\n",
        "\n",
        "total_lenght_different_column = {\n",
        "    'Seasons': total(df,'Seasons'),\n",
        "    'Holiday': total(df,'Holiday'),\n",
        "    'Funtioning_Day': total(df,'Functioning_Day'),\n",
        "    'month' : total(df,'month'),\n",
        "    'day'   : total(df,'day'),\n",
        "    'year'  : total(df,'year')\n",
        "}\n",
        "total_df = pd.DataFrame.from_dict(total_lenght_different_column,orient='index')\n",
        "\n",
        "print(total_df)"
      ],
      "metadata": {
        "id": "pmK2_IMJKt8S"
      },
      "execution_count": null,
      "outputs": []
    },
    {
      "cell_type": "markdown",
      "source": [
        "Year  has numerical value but it explains timestamp.\n"
      ],
      "metadata": {
        "id": "iUWuxMrnBdBR"
      }
    },
    {
      "cell_type": "code",
      "source": [
        "df['year'] = df['year'].astype('object')"
      ],
      "metadata": {
        "id": "AQdta4imBch3"
      },
      "execution_count": null,
      "outputs": []
    },
    {
      "cell_type": "markdown",
      "source": [
        "### What all manipulations have you done and insights you found?"
      ],
      "metadata": {
        "id": "MSa1f5Uengrz"
      }
    },
    {
      "cell_type": "markdown",
      "source": [
        "**Manipulations done-**\n",
        "* We changed the data type to appropriate one.\n",
        "* Extracted the day, month and year from the 'Date' column which would make it easier to do further analysis.\n",
        "\n",
        "**Insights found-**\n",
        "* The total no. of unique Seasons, Holiday, Functioning Day, month , day and year are found to be 4, 2, 2, 12, 7 and 2 respectively."
      ],
      "metadata": {
        "id": "LbyXE7I1olp8"
      }
    },
    {
      "cell_type": "markdown",
      "source": [
        "## ***4. Data Vizualization, Storytelling & Experimenting with charts : Understand the relationships between variables***"
      ],
      "metadata": {
        "id": "GF8Ens_Soomf"
      }
    },
    {
      "cell_type": "markdown",
      "source": [
        "Divided the dataframe into - numerical and categorical"
      ],
      "metadata": {
        "id": "7T2E_mXITkQw"
      }
    },
    {
      "cell_type": "code",
      "source": [
        "df_numerical = df.select_dtypes(include = [np.number])\n",
        "df_categorical = df.select_dtypes(exclude = [np.number])"
      ],
      "metadata": {
        "id": "NDrcqvqzTjSH"
      },
      "execution_count": null,
      "outputs": []
    },
    {
      "cell_type": "markdown",
      "source": [
        "#### Chart - 1: Correlation Heatmap to find the variables that affect the number of bike rented."
      ],
      "metadata": {
        "id": "0wOQAZs5pc--"
      }
    },
    {
      "cell_type": "code",
      "source": [
        "# Chart - 1: Correlation Heatmap\n",
        "plt.figure(figsize=(12, 10))\n",
        "corr_matrix = df_numerical.corr()\n",
        "sns.heatmap(corr_matrix, annot=True, fmt=\".2f\", cmap='coolwarm', linewidths=0.5,\n",
        "            annot_kws={\"size\": 10}, cbar_kws={\"shrink\": 0.8})\n",
        "plt.xticks(rotation=45, ha='right', fontsize=10)\n",
        "plt.yticks(fontsize=10)\n",
        "plt.title('Correlation Heatmap of all numerical variables', fontsize=16)\n",
        "plt.tight_layout()\n",
        "plt.show()"
      ],
      "metadata": {
        "id": "7v_ESjsspbW7"
      },
      "execution_count": null,
      "outputs": []
    },
    {
      "cell_type": "markdown",
      "source": [
        "##### 1. Why did you pick the specific chart?"
      ],
      "metadata": {
        "id": "K5QZ13OEpz2H"
      }
    },
    {
      "cell_type": "markdown",
      "source": [
        "The heatmap was chosen to visualize correlations between variables and highlight relationships."
      ],
      "metadata": {
        "id": "XESiWehPqBRc"
      }
    },
    {
      "cell_type": "markdown",
      "source": [
        "##### 2. What is/are the insight(s) found from the chart?"
      ],
      "metadata": {
        "id": "lQ7QKXXCp7Bj"
      }
    },
    {
      "cell_type": "markdown",
      "source": [
        "Rented bike count has strong correlations with hour and temperature, and weaker correlations with rainfall and wind speed."
      ],
      "metadata": {
        "id": "C_j1G7yiqdRP"
      }
    },
    {
      "cell_type": "markdown",
      "source": [
        "##### 3. Will the gained insights help creating a positive business impact?\n",
        "Are there any insights that lead to negative growth? Justify with specific reason."
      ],
      "metadata": {
        "id": "448CDAPjqfQr"
      }
    },
    {
      "cell_type": "markdown",
      "source": [
        "Understanding these correlations can help optimize bike availability based on time and weather conditions."
      ],
      "metadata": {
        "id": "3cspy4FjqxJW"
      }
    },
    {
      "cell_type": "markdown",
      "source": [
        "#### Chart - 2: Pairplot to see the relation between Rented Bike Count, Temperature, Humidity, Wind_speed and Solar_Radiation"
      ],
      "metadata": {
        "id": "KSlN3yHqYklG"
      }
    },
    {
      "cell_type": "code",
      "source": [
        "# Chart - 2: PairPlot\n",
        "selected_columns = ['Rented_Bike_Count', 'Temperature', 'Humidity', 'Wind_speed', 'Solar_Radiation']\n",
        "g = sns.pairplot(df[selected_columns], diag_kind='kde', markers='o', palette='Set2', height=2.5)\n",
        "for ax in g.axes.flatten():\n",
        "    ax.label_outer()\n",
        "    ax.set_xlabel(ax.get_xlabel(), rotation=45, ha='right', fontsize=12)\n",
        "    ax.set_ylabel(ax.get_ylabel(), rotation=0, ha='right', fontsize=12)\n",
        "plt.suptitle('Pairplot of Selected Variables', y=1.02, fontsize=16)\n",
        "plt.tight_layout()\n",
        "plt.show()"
      ],
      "metadata": {
        "id": "R4YgtaqtYklH"
      },
      "execution_count": null,
      "outputs": []
    },
    {
      "cell_type": "markdown",
      "source": [
        "##### 1. Why did you pick the specific chart?"
      ],
      "metadata": {
        "id": "t6dVpIINYklI"
      }
    },
    {
      "cell_type": "markdown",
      "source": [
        "A pairplot was chosen to visualize relationships and distributions between multiple numerical variables simultaneously."
      ],
      "metadata": {
        "id": "5aaW0BYyYklI"
      }
    },
    {
      "cell_type": "markdown",
      "source": [
        "##### 2. What is/are the insight(s) found from the chart?"
      ],
      "metadata": {
        "id": "ijmpgYnKYklI"
      }
    },
    {
      "cell_type": "markdown",
      "source": [
        "The chart reveals correlations, such as higher temperatures leading to increased bike rentals, and trends in humidity and solar radiation affecting demand."
      ],
      "metadata": {
        "id": "PSx9atu2YklI"
      }
    },
    {
      "cell_type": "markdown",
      "source": [
        "##### 3. Will the gained insights help creating a positive business impact?\n",
        "Are there any insights that lead to negative growth? Justify with specific reason."
      ],
      "metadata": {
        "id": "-JiQyfWJYklI"
      }
    },
    {
      "cell_type": "markdown",
      "source": [
        "* Yes, these insights can inform operational strategies for bike availability, optimizing rentals during peak demand times.\n",
        "\n",
        "* High rainfall correlates with lower bike rentals, indicating potential negative growth during rainy seasons, suggesting a need for alternative promotional strategies or services during adverse weather conditions."
      ],
      "metadata": {
        "id": "BcBbebzrYklV"
      }
    },
    {
      "cell_type": "markdown",
      "source": [
        "#### Chart - 3: Bar Plot to see the hours wise data distribution."
      ],
      "metadata": {
        "id": "EM7whBJCYoAo"
      }
    },
    {
      "cell_type": "code",
      "source": [
        "# Chart - 3: Bar Plot\n",
        "sns.set_style(\"whitegrid\")\n",
        "plt.figure(figsize=(18, 14))\n",
        "for i, col in enumerate(df_numerical):\n",
        "    ax = plt.subplot(4, 3, i + 1)\n",
        "    sns.barplot(data=df, x='Hour', y=col, ax=ax, palette='Set2')\n",
        "    ax.set_xticklabels(ax.get_xticklabels(), rotation=45, ha=\"right\")\n",
        "    ax.set_title(f'Hour vs {col}', fontsize=12)\n",
        "    ax.set_xlabel('Hour', fontsize=10)\n",
        "    ax.set_ylabel(col, fontsize=10)\n",
        "plt.tight_layout()\n",
        "plt.subplots_adjust(top=0.92)\n",
        "plt.suptitle('Hourly Data Distribution of Continuous Variables', fontsize=18, y=0.98)\n",
        "plt.show()"
      ],
      "metadata": {
        "id": "t6GMdE67YoAp"
      },
      "execution_count": null,
      "outputs": []
    },
    {
      "cell_type": "markdown",
      "source": [
        "##### 1. Why did you pick the specific chart?"
      ],
      "metadata": {
        "id": "fge-S5ZAYoAp"
      }
    },
    {
      "cell_type": "markdown",
      "source": [
        "The bar chart was chosen to visualize hourly data distribution across multiple continuous variables, making it easy to compare trends over time."
      ],
      "metadata": {
        "id": "5dBItgRVYoAp"
      }
    },
    {
      "cell_type": "markdown",
      "source": [
        "##### 2. What is/are the insight(s) found from the chart?"
      ],
      "metadata": {
        "id": "85gYPyotYoAp"
      }
    },
    {
      "cell_type": "markdown",
      "source": [
        "The chart highlights peaks and patterns during specific hours, showing how it affects Rented Bike count, temperature, wind speed, and humidity."
      ],
      "metadata": {
        "id": "4jstXR6OYoAp"
      }
    },
    {
      "cell_type": "markdown",
      "source": [
        "##### 3. Will the gained insights help creating a positive business impact?\n",
        "Are there any insights that lead to negative growth? Justify with specific reason."
      ],
      "metadata": {
        "id": "RoGjAbkUYoAp"
      }
    },
    {
      "cell_type": "markdown",
      "source": [
        "These insights can optimize bike availability by predicting demand, reducing wait times, and improving customer satisfaction."
      ],
      "metadata": {
        "id": "zfJ8IqMcYoAp"
      }
    },
    {
      "cell_type": "markdown",
      "source": [
        "#### Chart - 4: Histogram Plot to check data distribution of each continuous variable"
      ],
      "metadata": {
        "id": "4Of9eVA-YrdM"
      }
    },
    {
      "cell_type": "code",
      "source": [
        "# Chart - 4: Histogram Plot\n",
        "sns.set_style(\"whitegrid\")\n",
        "plt.figure(figsize=(12, 12))\n",
        "for i, col in enumerate(df.select_dtypes(include=['float64','int64']).columns):\n",
        "    ax = plt.subplot(5,2, i+1)\n",
        "    sns.histplot(data=df, x=col, ax=ax,palette='Set2',kde=True)\n",
        "    ax.set_xticklabels(ax.get_xticklabels(),fontsize=10, ha=\"right\")\n",
        "    ax.set_yticklabels(ax.get_yticklabels(),fontsize=10, ha=\"right\")\n",
        "    ax.set_xlabel(col, fontsize=10)\n",
        "    ax.set_ylabel('Count', fontsize=10)\n",
        "plt.suptitle('Data distribution of continuous variables', fontsize=18, y=0.98)\n",
        "plt.tight_layout()"
      ],
      "metadata": {
        "id": "irlUoxc8YrdO"
      },
      "execution_count": null,
      "outputs": []
    },
    {
      "cell_type": "markdown",
      "source": [
        "##### 1. Why did you pick the specific chart?"
      ],
      "metadata": {
        "id": "iky9q4vBYrdO"
      }
    },
    {
      "cell_type": "markdown",
      "source": [
        "The chart shows the distribution of key continuous variables, allowing for quick identification of trends, patterns, and outliers."
      ],
      "metadata": {
        "id": "aJRCwT6DYrdO"
      }
    },
    {
      "cell_type": "markdown",
      "source": [
        "##### 2. What is/are the insight(s) found from the chart?"
      ],
      "metadata": {
        "id": "F6T5p64dYrdO"
      }
    },
    {
      "cell_type": "markdown",
      "source": [
        "* Bike rentals peak at specific hours and temperatures.\n",
        "* Wind speed and visibility affect rentals.\n",
        "* Significant outliers exist in rainfall, snowfall, and visibility."
      ],
      "metadata": {
        "id": "Xx8WAJvtYrdO"
      }
    },
    {
      "cell_type": "markdown",
      "source": [
        "##### 3. Will the gained insights help creating a positive business impact?\n",
        "Are there any insights that lead to negative growth? Justify with specific reason."
      ],
      "metadata": {
        "id": "y-Ehk30pYrdP"
      }
    },
    {
      "cell_type": "markdown",
      "source": [
        "Insights on peak hours and weather conditions can improve demand forecasting and resource allocation.\n",
        "\n",
        "Outliers, especially in rainfall and snowfall, may indicate unpredictable conditions affecting rental demand, leading to potential misallocation of resources."
      ],
      "metadata": {
        "id": "jLNxxz7MYrdP"
      }
    },
    {
      "cell_type": "markdown",
      "source": [
        "#### Chart - 5: Box Plot to find outliers present"
      ],
      "metadata": {
        "id": "bamQiAODYuh1"
      }
    },
    {
      "cell_type": "code",
      "source": [
        "# Chart - 5 Box Plot\n",
        "sns.set_style(\"whitegrid\")\n",
        "plt.figure(figsize=(12, 12))\n",
        "for i, col in enumerate(df.select_dtypes(include=['float64','int64']).columns):\n",
        "    ax = plt.subplot(5,2, i+1)\n",
        "    sns.boxplot(data=df, x=col, ax=ax,palette='Set2')\n",
        "    ax.set_xticklabels(ax.get_xticklabels(),fontsize=10, ha=\"right\")\n",
        "    ax.set_yticklabels(ax.get_yticklabels(),fontsize=10, ha=\"right\")\n",
        "    ax.set_xlabel(col, fontsize=10)\n",
        "plt.suptitle('Box Plot of continuous variables')\n",
        "plt.tight_layout()"
      ],
      "metadata": {
        "id": "TIJwrbroYuh3"
      },
      "execution_count": null,
      "outputs": []
    },
    {
      "cell_type": "markdown",
      "source": [
        "##### 1. Why did you pick the specific chart?"
      ],
      "metadata": {
        "id": "QHF8YVU7Yuh3"
      }
    },
    {
      "cell_type": "markdown",
      "source": [
        "Box plots are useful for visualizing the distribution of continuous variables and detecting outliers."
      ],
      "metadata": {
        "id": "dcxuIMRPYuh3"
      }
    },
    {
      "cell_type": "markdown",
      "source": [
        "##### 2. What is/are the insight(s) found from the chart?"
      ],
      "metadata": {
        "id": "GwzvFGzlYuh3"
      }
    },
    {
      "cell_type": "markdown",
      "source": [
        "Several variables, like \"Rented_Bike_Count,\" \"Wind_speed,\" \"Solar_Radiation,\" \"Rainfall,\" and \"Snowfall,\" show significant outliers."
      ],
      "metadata": {
        "id": "uyqkiB8YYuh3"
      }
    },
    {
      "cell_type": "markdown",
      "source": [
        "##### 3. Will the gained insights help creating a positive business impact?\n",
        "Are there any insights that lead to negative growth? Justify with specific reason."
      ],
      "metadata": {
        "id": "qYpmQ266Yuh3"
      }
    },
    {
      "cell_type": "markdown",
      "source": [
        "Identifying outliers and understanding data distribution can help refine predictions and improve decision-making.\n",
        "\n",
        "Outliers could indicate unusual conditions (extreme weather), which might affect rental demand unpredictably, leading to potential resource misallocation."
      ],
      "metadata": {
        "id": "_WtzZ_hCYuh4"
      }
    },
    {
      "cell_type": "markdown",
      "source": [
        "#### Chart - 6: Pie chart to analyze categorical variables."
      ],
      "metadata": {
        "id": "PIIx-8_IphqN"
      }
    },
    {
      "cell_type": "code",
      "source": [
        "# Chart - 6: Pie Chart\n",
        "fig, ax = plt.subplots(1, 3, figsize=(18, 6))\n",
        "\n",
        "season_var = pd.crosstab(index=df['Seasons'], columns='% observations')\n",
        "ax[0].pie(season_var['% observations'], labels=season_var['% observations'].index, autopct='%.0f%%')\n",
        "ax[0].set_title('Seasons')\n",
        "\n",
        "Functioning_Day_var = pd.crosstab(index=df['Functioning_Day'], columns='% observations')\n",
        "ax[1].pie(Functioning_Day_var['% observations'], labels=Functioning_Day_var['% observations'].index, autopct='%.0f%%')\n",
        "ax[1].set_title('Functioning_Day')\n",
        "\n",
        "holiday_var = pd.crosstab(index=df['Holiday'], columns='% observations')\n",
        "ax[2].pie(holiday_var['% observations'], labels=holiday_var['% observations'].index, autopct='%.0f%%')\n",
        "ax[2].set_title('Holiday')\n",
        "\n",
        "plt.tight_layout()\n",
        "plt.show()\n"
      ],
      "metadata": {
        "id": "lqAIGUfyphqO"
      },
      "execution_count": null,
      "outputs": []
    },
    {
      "cell_type": "markdown",
      "source": [
        "##### 1. Why did you pick the specific chart?"
      ],
      "metadata": {
        "id": "t27r6nlMphqO"
      }
    },
    {
      "cell_type": "markdown",
      "source": [
        "Pie charts effectively represent categorical data as proportions of a whole."
      ],
      "metadata": {
        "id": "iv6ro40sphqO"
      }
    },
    {
      "cell_type": "markdown",
      "source": [
        "##### 2. What is/are the insight(s) found from the chart?"
      ],
      "metadata": {
        "id": "r2jJGEOYphqO"
      }
    },
    {
      "cell_type": "markdown",
      "source": [
        "It shows the distribution of observations across seasons, functioning days, and holidays. Among them, the Seasons variable is balanced."
      ],
      "metadata": {
        "id": "Po6ZPi4hphqO"
      }
    },
    {
      "cell_type": "markdown",
      "source": [
        "##### 3. Will the gained insights help creating a positive business impact?\n",
        "Are there any insights that lead to negative growth? Justify with specific reason."
      ],
      "metadata": {
        "id": "b0JNsNcRphqO"
      }
    },
    {
      "cell_type": "markdown",
      "source": [
        "Understanding trends during seasons and holidays can optimize resource allocation.\n",
        "\n",
        "if the business doesn't adapt to low demand during certain seasons or holidays, growth may be negatively impacted."
      ],
      "metadata": {
        "id": "xvSq8iUTphqO"
      }
    },
    {
      "cell_type": "markdown",
      "source": [
        "## ***5. Hypothesis Testing***"
      ],
      "metadata": {
        "id": "g-ATYxFrGrvw"
      }
    },
    {
      "cell_type": "markdown",
      "source": [
        "### Based on your chart experiments, define three hypothetical statements from the dataset. In the next three questions, perform hypothesis testing to obtain final conclusion about the statements through your code and statistical testing."
      ],
      "metadata": {
        "id": "Yfr_Vlr8HBkt"
      }
    },
    {
      "cell_type": "markdown",
      "source": [
        "### Hypothetical Statement - 1: The average bike rental count is higher during summer compared to winter."
      ],
      "metadata": {
        "id": "8yEUt7NnHlrM"
      }
    },
    {
      "cell_type": "markdown",
      "source": [
        "#### 1. State Your research hypothesis as a null hypothesis and alternate hypothesis."
      ],
      "metadata": {
        "id": "tEA2Xm5dHt1r"
      }
    },
    {
      "cell_type": "markdown",
      "source": [
        "* **Null Hypothesis (H₀)**: The average bike rental count during summer is higher than in winter.\n",
        "* **Alternative Hypothesis (H₁)**: The average bike rental count during summer is equal to or less than that in winter."
      ],
      "metadata": {
        "id": "HI9ZP0laH0D-"
      }
    },
    {
      "cell_type": "markdown",
      "source": [
        "#### 2. Perform an appropriate statistical test."
      ],
      "metadata": {
        "id": "I79__PHVH19G"
      }
    },
    {
      "cell_type": "code",
      "source": [
        "# Two-sample t-test to obtain P-Value\n",
        "# Separate the data based on the seasons\n",
        "summer_data = df[df['Seasons'] == 'Summer']['Rented_Bike_Count']\n",
        "winter_data = df[df['Seasons'] == 'Winter']['Rented_Bike_Count']\n",
        "\n",
        "# Perform the two-sample t-test\n",
        "t_stat, p_value = ttest_ind(summer_data, winter_data, alternative='less')\n",
        "\n",
        "print(f'T-statistic: {t_stat:.4f}')\n",
        "print(f'P-value: {p_value:.4f}')\n",
        "\n",
        "# Conclusion based on p-value\n",
        "alpha = 0.05\n",
        "if p_value < alpha:\n",
        "    print(\"Reject the null hypothesis: The average bike rental count during summer is less than or equal to that in winter.\")\n",
        "else:\n",
        "    print(\"Fail to reject the null hypothesis: The average bike rental count during summer is greater than in winter.\")"
      ],
      "metadata": {
        "id": "oZrfquKtyian"
      },
      "execution_count": null,
      "outputs": []
    },
    {
      "cell_type": "markdown",
      "source": [
        "##### Which statistical test have you done to obtain P-Value?"
      ],
      "metadata": {
        "id": "Ou-I18pAyIpj"
      }
    },
    {
      "cell_type": "markdown",
      "source": [
        "**Two-sample t-test**"
      ],
      "metadata": {
        "id": "s2U0kk00ygSB"
      }
    },
    {
      "cell_type": "markdown",
      "source": [
        "##### Why did you choose the specific statistical test?"
      ],
      "metadata": {
        "id": "fF3858GYyt-u"
      }
    },
    {
      "cell_type": "markdown",
      "source": [
        "The **two-sample t-test** is appropriate for **comparing** the **means** of two **independent groups** (bike rentals in summer and winter) to determine if there is a significant difference between them."
      ],
      "metadata": {
        "id": "HO4K0gP5y3B4"
      }
    },
    {
      "cell_type": "markdown",
      "source": [
        "### Hypothetical Statement - 2: There is a significant difference in bike rentals on holidays versus non-holidays."
      ],
      "metadata": {
        "id": "4_0_7-oCpUZd"
      }
    },
    {
      "cell_type": "markdown",
      "source": [
        "#### 1. State Your research hypothesis as a null hypothesis and alternate hypothesis."
      ],
      "metadata": {
        "id": "hwyV_J3ipUZe"
      }
    },
    {
      "cell_type": "markdown",
      "source": [
        "* **Null Hypothesis (H₀)**: The average bike rental count during holidays is higher than that during non-holidays.\n",
        "* **Alternative Hypothesis (H₁)**: The average bike rental count during holidays is equal to that during non-holidays."
      ],
      "metadata": {
        "id": "FnpLGJ-4pUZe"
      }
    },
    {
      "cell_type": "markdown",
      "source": [
        "#### 2. Perform an appropriate statistical test."
      ],
      "metadata": {
        "id": "3yB-zSqbpUZe"
      }
    },
    {
      "cell_type": "code",
      "source": [
        "# Mann-Whitney U test\n",
        "# Separate the data based on holidays\n",
        "holiday_data = df[df['Holiday'] == 'Holiday']['Rented_Bike_Count']\n",
        "non_holiday_data = df[df['Holiday'] == 'No Holiday']['Rented_Bike_Count']\n",
        "\n",
        "# Perform the Mann-Whitney U test\n",
        "u_stat, p_value = mannwhitneyu(holiday_data, non_holiday_data, alternative='two-sided')\n",
        "\n",
        "print(f'U-statistic: {u_stat:.4f}')\n",
        "print(f'P-value: {p_value:.4f}')\n",
        "\n",
        "# Conclusion based on p-value\n",
        "alpha = 0.05\n",
        "if p_value < alpha:\n",
        "    print(\"Reject the null hypothesis: The average bike rental count during holidays is not higher than that during non-holidays.\")\n",
        "else:\n",
        "    print(\"Fail to reject the null hypothesis: No significant evidence that the average bike rental count during holidays is higher.\")"
      ],
      "metadata": {
        "id": "sWxdNTXNpUZe"
      },
      "execution_count": null,
      "outputs": []
    },
    {
      "cell_type": "markdown",
      "source": [
        "##### Which statistical test have you done to obtain P-Value?"
      ],
      "metadata": {
        "id": "dEUvejAfpUZe"
      }
    },
    {
      "cell_type": "markdown",
      "source": [
        "**Mann-Whitney U test**"
      ],
      "metadata": {
        "id": "oLDrPz7HpUZf"
      }
    },
    {
      "cell_type": "markdown",
      "source": [
        "##### Why did you choose the specific statistical test?"
      ],
      "metadata": {
        "id": "Fd15vwWVpUZf"
      }
    },
    {
      "cell_type": "markdown",
      "source": [
        "It is a **non-parametric** test suitable for comparing the **medians** of two **independent groups** when the data may **not** be **normally distributed**."
      ],
      "metadata": {
        "id": "4xOGYyiBpUZf"
      }
    },
    {
      "cell_type": "markdown",
      "source": [
        "### Hypothetical Statement - 3: Wind speed has no significant impact on the number of bike rentals"
      ],
      "metadata": {
        "id": "bn_IUdTipZyH"
      }
    },
    {
      "cell_type": "markdown",
      "source": [
        "#### 1. State Your research hypothesis as a null hypothesis and alternate hypothesis."
      ],
      "metadata": {
        "id": "49K5P_iCpZyH"
      }
    },
    {
      "cell_type": "markdown",
      "source": [
        "* **Null Hypothesis (H₀)**: Wind speed has no significant impact on the number of bike rentals.\n",
        "* **Alternative Hypothesis (H₁)**: Wind speed has a significant impact on the number of bike rentals."
      ],
      "metadata": {
        "id": "7gWI5rT9pZyH"
      }
    },
    {
      "cell_type": "markdown",
      "source": [
        "#### 2. Perform an appropriate statistical test."
      ],
      "metadata": {
        "id": "Nff-vKELpZyI"
      }
    },
    {
      "cell_type": "code",
      "source": [
        "# Pearson's correlation coefficient\n",
        "\n",
        "# Calculate Pearson correlation coefficient\n",
        "correlation, p_value = pearsonr(df['Wind_speed'], df['Rented_Bike_Count'])\n",
        "\n",
        "print(f'Correlation coefficient: {correlation:.4f}')\n",
        "print(f'P-value: {p_value:.4f}')\n",
        "\n",
        "# Perform simple linear regression\n",
        "X = df[['Wind_speed']]\n",
        "y = df['Rented_Bike_Count']\n",
        "X = sm.add_constant(X)  # Adds a constant term to the predictor\n",
        "\n",
        "model = sm.OLS(y, X).fit()\n",
        "print(model.summary())\n",
        "\n",
        "# Conclusion based on p-value\n",
        "alpha = 0.05\n",
        "if p_value < alpha:\n",
        "    print(\"Reject the null hypothesis: Wind speed has a significant impact on bike rentals.\")\n",
        "else:\n",
        "    print(\"Fail to reject the null hypothesis: No significant evidence of an impact of wind speed on bike rentals.\")\n"
      ],
      "metadata": {
        "id": "s6AnJQjtpZyI"
      },
      "execution_count": null,
      "outputs": []
    },
    {
      "cell_type": "markdown",
      "source": [
        "##### Which statistical test have you done to obtain P-Value?"
      ],
      "metadata": {
        "id": "kLW572S8pZyI"
      }
    },
    {
      "cell_type": "markdown",
      "source": [
        "**Pearson correlation coefficient**"
      ],
      "metadata": {
        "id": "ytWJ8v15pZyI"
      }
    },
    {
      "cell_type": "markdown",
      "source": [
        "##### Why did you choose the specific statistical test?"
      ],
      "metadata": {
        "id": "dWbDXHzopZyI"
      }
    },
    {
      "cell_type": "markdown",
      "source": [
        "It measures the strength and direction of the linear relationship between two continuous variables, which is suitable for assessing the impact of wind speed on bike rentals."
      ],
      "metadata": {
        "id": "M99G98V6pZyI"
      }
    },
    {
      "cell_type": "markdown",
      "source": [
        "## ***6. Feature Engineering & Data Pre-processing***"
      ],
      "metadata": {
        "id": "yLjJCtPM0KBk"
      }
    },
    {
      "cell_type": "markdown",
      "source": [
        "### 1. Handling Outliers"
      ],
      "metadata": {
        "id": "id1riN9m0vUs"
      }
    },
    {
      "cell_type": "code",
      "source": [
        "# Handling Outliers & Outlier treatments\n",
        "var=list(df.select_dtypes(include=['float64','int64']).columns)\n",
        "sc_X=PowerTransformer(method = 'yeo-johnson')\n",
        "df[var]=sc_X.fit_transform(df[var])"
      ],
      "metadata": {
        "id": "M6w2CzZf04JK"
      },
      "execution_count": null,
      "outputs": []
    },
    {
      "cell_type": "code",
      "source": [
        "# Box Plot after applying Power Transformation\n",
        "sns.set_style(\"whitegrid\")\n",
        "plt.figure(figsize=(12, 12))\n",
        "for i, col in enumerate(df.select_dtypes(include=['float64','int64']).columns):\n",
        "    ax = plt.subplot(5,2, i+1)\n",
        "    sns.boxplot(data=df, x=col, ax=ax,palette='Set2')\n",
        "    ax.set_xticklabels(ax.get_xticklabels(),fontsize=10, ha=\"right\")\n",
        "    ax.set_yticklabels(ax.get_yticklabels(),fontsize=10, ha=\"right\")\n",
        "    ax.set_xlabel(col, fontsize=10)\n",
        "plt.suptitle('Box Plot of continuous variables', fontsize=16)\n",
        "plt.tight_layout()"
      ],
      "metadata": {
        "id": "WDmOaEnAF5mD"
      },
      "execution_count": null,
      "outputs": []
    },
    {
      "cell_type": "markdown",
      "source": [
        "##### What all outlier treatment techniques have you used and why did you use those techniques?"
      ],
      "metadata": {
        "id": "578E2V7j08f6"
      }
    },
    {
      "cell_type": "markdown",
      "source": [
        "We apply Power Transformation to handle the outliers and skewness of the data.It can handle both positive and negative values.\n",
        "\n",
        "We again check the box plot of the variables and found that the outliers have been reduced significantly."
      ],
      "metadata": {
        "id": "uGZz5OrT1HH-"
      }
    },
    {
      "cell_type": "markdown",
      "source": [
        "### 2. Categorical Encoding"
      ],
      "metadata": {
        "id": "89xtkJwZ18nB"
      }
    },
    {
      "cell_type": "code",
      "source": [
        "# Encode your categorical columns\n",
        "df=pd.get_dummies(df,columns=['Holiday','Seasons','Functioning_Day','Hour','month','day'] ,drop_first=True)"
      ],
      "metadata": {
        "id": "21JmIYMG2hEo"
      },
      "execution_count": null,
      "outputs": []
    },
    {
      "cell_type": "markdown",
      "source": [
        "#### What all categorical encoding techniques have you used & why did you use those techniques?"
      ],
      "metadata": {
        "id": "67NQN5KX2AMe"
      }
    },
    {
      "cell_type": "markdown",
      "source": [
        "We use **one-hot encoding** to convert categorical variables into a numerical format that machine learning models can understand. Many algorithms (e.g., linear regression, logistic regression) require input features to be numerical, so one-hot encoding transforms categorical values into binary vectors"
      ],
      "metadata": {
        "id": "UDaue5h32n_G"
      }
    },
    {
      "cell_type": "markdown",
      "source": [
        "### 3. Feature Selection"
      ],
      "metadata": {
        "id": "-oLEiFgy-5Pf"
      }
    },
    {
      "cell_type": "markdown",
      "source": [
        "**Variance Inflation Factor**: A variance inflation factor(VIF) detects multicollinearity in regression analysis. Multicollinearity is when there’s correlation between predictors (i.e. independent variables) in a model; it’s presence can adversely affect your regression results. The VIF estimates how much the variance of a regression coefficient is inflated due to multicollinearity in the model."
      ],
      "metadata": {
        "id": "qEr_EKibLDSx"
      }
    },
    {
      "cell_type": "code",
      "source": [
        "X=df.iloc[:,2:]\n",
        "y=df.iloc[:,1]\n",
        "def calc_vif(X):\n",
        "\n",
        "    # Calculating VIF\n",
        "    vif = pd.DataFrame()\n",
        "    vif[\"variables\"] = X.columns\n",
        "    vif[\"VIF\"] = [variance_inflation_factor(X.values, i) for i in range(X.shape[1])]\n",
        "\n",
        "    return(vif)\n",
        "calc_vif(X.select_dtypes(include=['float','int']))"
      ],
      "metadata": {
        "id": "ToNYMXb2LCcN"
      },
      "execution_count": null,
      "outputs": []
    },
    {
      "cell_type": "markdown",
      "source": [
        "Dew Point Temperature is highly correlated . We delete this variable and check the VIF score again."
      ],
      "metadata": {
        "id": "i9DikpuJLuz7"
      }
    },
    {
      "cell_type": "code",
      "source": [
        "X = X.drop(columns=['Dew_point_temperature'])\n",
        "calc_vif(X.select_dtypes(include=['float','int']))"
      ],
      "metadata": {
        "id": "eFqikNvPLxLM"
      },
      "execution_count": null,
      "outputs": []
    },
    {
      "cell_type": "markdown",
      "source": [
        "To reduce the number of input variables that are believed to be most useful to a model in order to predict the target variable, we perform Feature Selection."
      ],
      "metadata": {
        "id": "0-YP-nIrMqCF"
      }
    },
    {
      "cell_type": "code",
      "source": [
        "# Select your features wisely to avoid overfitting\n",
        "fs = SelectKBest(score_func=f_regression, k='all')\n",
        "fs.fit(X, y)\n",
        "feature_contribution=(fs.scores_/sum(fs.scores_))*100\n",
        "for i,j in enumerate(X.columns):\n",
        "    print(f'{j} : {feature_contribution[i]:.2f}%')\n",
        "\n",
        "# Create a DataFrame for the feature scores\n",
        "feature_scores = pd.DataFrame({'Feature': X.columns, 'Score': fs.scores_})\n",
        "# Sort the DataFrame by scores in descending order\n",
        "feature_scores = feature_scores.sort_values(by='Score', ascending=False)\n",
        "# Plot the bar plot in descending order\n",
        "sns.set_style(\"whitegrid\")\n",
        "plt.figure(figsize=(12, 8))\n",
        "sns.barplot(x='Feature', y='Score', data=feature_scores, palette='Set2')\n",
        "plt.xticks(rotation=45, ha='right', fontsize=10)\n",
        "plt.yticks(fontsize=10)\n",
        "plt.suptitle('Bar Plot of Feature Importance Scores (Descending)', fontsize=16)\n",
        "plt.xlabel('Features', fontsize=12)\n",
        "plt.ylabel('Feature Scores', fontsize=12)\n",
        "plt.tight_layout()\n",
        "plt.show()"
      ],
      "metadata": {
        "id": "YLhe8UmaBCEE"
      },
      "execution_count": null,
      "outputs": []
    },
    {
      "cell_type": "markdown",
      "source": [
        "##### What all feature selection methods have you used  and why?"
      ],
      "metadata": {
        "id": "pEMng2IbBLp7"
      }
    },
    {
      "cell_type": "markdown",
      "source": [
        "* We used **Variance Inflation Factor** (VIF) to detect **multicollinearity** and removed **highly correlated** variables like **Dew Point Temperature**, as it was redundant and affected model stability.\n",
        "\n",
        "* We also performed **Feature Selection** using the **SelectKBest** method with **f_regression** as the score function, to identify and prioritize features that have the  **most influence** in predicting the target variable."
      ],
      "metadata": {
        "id": "rb2Lh6Z8BgGs"
      }
    },
    {
      "cell_type": "markdown",
      "source": [
        "##### Which all features you found important and why?"
      ],
      "metadata": {
        "id": "rAdphbQ9Bhjc"
      }
    },
    {
      "cell_type": "markdown",
      "source": [
        "* **Temperature (20.27%)**: This has the highest score, indicating it's strongly correlated with the target variable (likely rented bike count) and crucial for prediction.\n",
        "\n",
        "* **Solar Radiation (7.16%)** and **Seasons_Summer (5.82%)**: These environmental factors significantly impact bike demand, making them important predictors.\n",
        "\n",
        "* Other features like **Rainfall (4.73%)** and **Humidity (2.95%)** also influence bike rentals but to a lesser extent. These variables are essential for understanding weather-related fluctuations in bike demand."
      ],
      "metadata": {
        "id": "fGgaEstsBnaf"
      }
    },
    {
      "cell_type": "markdown",
      "source": [
        "### 4. Data Scaling"
      ],
      "metadata": {
        "id": "rMDnDkt2B6du"
      }
    },
    {
      "cell_type": "code",
      "source": [
        "# Scaling your data\n",
        "sc=StandardScaler()\n",
        "X_train=sc.fit_transform(X_train)\n",
        "X_test=sc.transform(X_test)"
      ],
      "metadata": {
        "id": "dL9LWpySC6x_"
      },
      "execution_count": null,
      "outputs": []
    },
    {
      "cell_type": "markdown",
      "source": [
        "##### Which method have you used to scale you data and why?"
      ],
      "metadata": {
        "id": "yiiVWRdJDDil"
      }
    },
    {
      "cell_type": "markdown",
      "source": [
        "We have used **Standardization** which is a scaling technique where the values are centered around the mean with a unit standard deviation. This means that the mean of the attribute becomes zero and the resultant distribution has a unit standard deviation."
      ],
      "metadata": {
        "id": "w1G2QxFbOZ2V"
      }
    },
    {
      "cell_type": "markdown",
      "source": [
        "### 5. Data Splitting"
      ],
      "metadata": {
        "id": "BhH2vgX9EjGr"
      }
    },
    {
      "cell_type": "code",
      "source": [
        "# Split your data to train and test. Choose Splitting ratio wisely.\n",
        "X_train,X_test,y_train,y_test=train_test_split(X,y,test_size=0.30,random_state=0)"
      ],
      "metadata": {
        "id": "0CTyd2UwEyNM"
      },
      "execution_count": null,
      "outputs": []
    },
    {
      "cell_type": "markdown",
      "source": [
        "##### What data splitting ratio have you used and why?"
      ],
      "metadata": {
        "id": "qjKvONjwE8ra"
      }
    },
    {
      "cell_type": "markdown",
      "source": [
        "We used a **70:30** data splitting ratio to allocate **70%** of the data for **training** and **30%** for **testing**. This ensures sufficient data for training the model while keeping a good portion for evaluating its performance."
      ],
      "metadata": {
        "id": "Y2lJ8cobFDb_"
      }
    },
    {
      "cell_type": "markdown",
      "source": [
        "## ***7. ML Model Implementation***"
      ],
      "metadata": {
        "id": "VfCC591jGiD4"
      }
    },
    {
      "cell_type": "code",
      "source": [
        "#creating dictionary for storing different models accuracy\n",
        "model_comparison={}"
      ],
      "metadata": {
        "id": "4h24Y0z-gUfp"
      },
      "execution_count": null,
      "outputs": []
    },
    {
      "cell_type": "markdown",
      "source": [
        "### ML Model - 1: Linear Regression"
      ],
      "metadata": {
        "id": "OB4l2ZhMeS1U"
      }
    },
    {
      "cell_type": "code",
      "source": [
        "# ML Model - 1 Implementation\n",
        "lm=LinearRegression()\n",
        "# Fit the Algorithm\n",
        "lm.fit(X_train,y_train)\n",
        "# Predict on the model\n",
        "y_pred=lm.predict(X_test)"
      ],
      "metadata": {
        "id": "7ebyywQieS1U"
      },
      "execution_count": null,
      "outputs": []
    },
    {
      "cell_type": "markdown",
      "source": [
        "#### 1. Explain the ML Model used and it's performance using Evaluation metric Score Chart."
      ],
      "metadata": {
        "id": "ArJBuiUVfxKd"
      }
    },
    {
      "cell_type": "code",
      "source": [
        "# Visualizing evaluation Metric Score chart\n",
        "print(f\"Model R-Square : {r2_score(y_test,y_pred)*100:.2f}%\")\n",
        "print(f\"Model MSE : {mean_squared_error(y_test,y_pred)*100:.2f}%\")"
      ],
      "metadata": {
        "id": "rqD5ZohzfxKe"
      },
      "execution_count": null,
      "outputs": []
    },
    {
      "cell_type": "code",
      "source": [
        "# Regression plot between actual and predicted prices\n",
        "plt.figure(figsize=(10, 6))\n",
        "# Create a scatter plot of actual vs predicted values\n",
        "sns.scatterplot(x=y_test, y=y_pred, color='blue', label='Predicted Values')\n",
        "# Add a line for perfect predictions\n",
        "plt.plot([y_test.min(), y_test.max()], [y_test.min(), y_test.max()], color='red', linestyle='--', label='Perfect Prediction')\n",
        "# Adding labels and title\n",
        "plt.title('Actual vs Predicted Prices', fontsize=16)\n",
        "plt.xlabel('Actual Prices', fontsize=14)\n",
        "plt.ylabel('Predicted Prices', fontsize=14)\n",
        "plt.legend()\n",
        "plt.grid()\n",
        "plt.show()"
      ],
      "metadata": {
        "id": "IvQw6OTwqeme"
      },
      "execution_count": null,
      "outputs": []
    },
    {
      "cell_type": "markdown",
      "source": [
        "The model used is **Linear Regression**, which aims to establish a relationship between the independent variables (features) and the dependent variable (target) to predict outcomes.\n",
        "\n",
        "**R-Square (83.11%)**: This indicates that approximately 83.11% of the variance in the target variable can be explained by the independent variables, suggesting a strong fit of the model to the data.\n",
        "\n",
        "**Mean Squared Error (MSE) (16.83%)**: This metric measures the average squared difference between the actual and predicted values. A lower MSE indicates better model performance, meaning the model's predictions are relatively close to the actual values."
      ],
      "metadata": {
        "id": "euNQ8fJMtf3J"
      }
    },
    {
      "cell_type": "markdown",
      "source": [
        "#### 2. Cross- Validation & Hyperparameter Tuning"
      ],
      "metadata": {
        "id": "4qY1EAkEfxKe"
      }
    },
    {
      "cell_type": "code",
      "source": [
        "# ML Model - 1 Implementation with hyperparameter optimization techniques (i.e., GridSearch CV, RandomSearch CV, Bayesian Optimization etc.)\n",
        "accuracies = cross_val_score(estimator = lm, X = X_train, y = y_train, cv = 5)\n",
        "print(\"Cross Val Accuracy: {:.2f} %\".format(accuracies.mean()*100))\n",
        "print(\"Cross Val Standard Deviation: {:.2f} %\".format(accuracies.std()*100))\n",
        "model_comparison['Linear Regression']=[r2_score(y_test,y_pred),mean_squared_error(y_test,y_pred),(accuracies.mean()),(accuracies.std())]"
      ],
      "metadata": {
        "id": "Dy61ujd6fxKe"
      },
      "execution_count": null,
      "outputs": []
    },
    {
      "cell_type": "markdown",
      "source": [
        "### ML Model - 2: Random Forest Regression"
      ],
      "metadata": {
        "id": "dJ2tPlVmpsJ0"
      }
    },
    {
      "cell_type": "code",
      "source": [
        "# ML Model - 2 Implementation\n",
        "rm=RandomForestRegressor(n_estimators=10,random_state=0)\n",
        "rm.fit(X_train,y_train)\n",
        "y_pred=rm.predict(X_test)"
      ],
      "metadata": {
        "id": "TovYVzZu3uE8"
      },
      "execution_count": null,
      "outputs": []
    },
    {
      "cell_type": "markdown",
      "source": [
        "#### 1. Explain the ML Model used and it's performance using Evaluation metric Score Chart."
      ],
      "metadata": {
        "id": "JWYfwnehpsJ1"
      }
    },
    {
      "cell_type": "code",
      "source": [
        "# Visualizing evaluation Metric Score chart\n",
        "print(f\"Model R-Square : {r2_score(y_test,y_pred)*100:.2f}%\")\n",
        "print(f\"Model MSE : {mean_squared_error(y_test,y_pred)*100:.2f}%\")"
      ],
      "metadata": {
        "id": "yEl-hgQWpsJ1"
      },
      "execution_count": null,
      "outputs": []
    },
    {
      "cell_type": "markdown",
      "source": [
        "#### 2. Cross- Validation & Hyperparameter Tuning"
      ],
      "metadata": {
        "id": "-jK_YjpMpsJ2"
      }
    },
    {
      "cell_type": "code",
      "source": [
        "# ML Model - 1 Implementation with hyperparameter optimization techniques (i.e., GridSearch CV, RandomSearch CV, Bayesian Optimization etc.)\n",
        "accuracies = cross_val_score(estimator = rm, X = X_train, y = y_train, cv = 5)\n",
        "print(\"Cross Val Accuracy: {:.2f} %\".format(accuracies.mean()*100))\n",
        "print(\"Cross Val Standard Deviation: {:.2f} %\".format(accuracies.std()*100))\n",
        "model_comparison['Random forest Regression']=[r2_score(y_test,y_pred),mean_squared_error(y_test,y_pred),(accuracies.mean()),(accuracies.std())]"
      ],
      "metadata": {
        "id": "Dn0EOfS6psJ2"
      },
      "execution_count": null,
      "outputs": []
    },
    {
      "cell_type": "markdown",
      "source": [
        "### ML Model 3- Bagging Regression"
      ],
      "metadata": {
        "id": "KO8Z6Kpu4SH-"
      }
    },
    {
      "cell_type": "code",
      "source": [
        "bm= BaggingRegressor(RandomForestRegressor(n_estimators=10,random_state=0),random_state=0)\n",
        "bm.fit(X_train, y_train)\n",
        "y_pred=bm.predict(X_test)"
      ],
      "metadata": {
        "id": "gBQnOZ0W4lVA"
      },
      "execution_count": null,
      "outputs": []
    },
    {
      "cell_type": "markdown",
      "source": [
        "#### 1. Explain the ML Model used and it's performance using Evaluation metric Score Chart."
      ],
      "metadata": {
        "id": "KdzSI9JK4mqf"
      }
    },
    {
      "cell_type": "code",
      "source": [
        "print(f\"Model R-Square : {r2_score(y_test,y_pred)*100:.2f}%\")\n",
        "print(f\"Model MSE : {mean_squared_error(y_test,y_pred)*100:.2f}%\")"
      ],
      "metadata": {
        "id": "jNIN2leH4v5i"
      },
      "execution_count": null,
      "outputs": []
    },
    {
      "cell_type": "markdown",
      "source": [
        "#### 2. Cross- Validation & Hyperparameter Tuning"
      ],
      "metadata": {
        "id": "TwaREWIL4wed"
      }
    },
    {
      "cell_type": "code",
      "source": [
        "accuracies = cross_val_score(estimator = bm, X = X_train, y = y_train, cv = 5)\n",
        "print(\"Cross Val Accuracy: {:.2f} %\".format(accuracies.mean()*100))\n",
        "print(\"Cross Val Standard Deviation: {:.2f} %\".format(accuracies.std()*100))\n",
        "model_comparison['Bagging Regressor']=[r2_score(y_test,y_pred),mean_squared_error(y_test,y_pred),(accuracies.mean()),(accuracies.std())]"
      ],
      "metadata": {
        "id": "Pfr-YCpW5jnF"
      },
      "execution_count": null,
      "outputs": []
    },
    {
      "cell_type": "markdown",
      "source": [
        "#### Model Comparison"
      ],
      "metadata": {
        "id": "E8KpNYUf7k6Z"
      }
    },
    {
      "cell_type": "code",
      "source": [
        "Model_com_df=pd.DataFrame(model_comparison).T\n",
        "Model_com_df.columns=['R-Square','MSE','CV Accuracy','CV std']\n",
        "Model_com_df=Model_com_df.sort_values(by='R-Square',ascending=False)\n",
        "Model_com_df.style.format(\"{:.2%}\").background_gradient(cmap='RdYlBu_r')"
      ],
      "metadata": {
        "id": "z5M2b_707re-"
      },
      "execution_count": null,
      "outputs": []
    },
    {
      "cell_type": "markdown",
      "source": [
        "* **Bagging Regressor** outperforms the other models across all metrics, indicating it has the highest predictive accuracy and the lowest error.\n",
        "\n",
        "* **Random Forest Regression** also shows strong performance, but not as high as Bagging.\n",
        "\n",
        "* **Linear Regression** exhibits the lowest R² and the highest MSE, indicating that it may not capture the underlying patterns in the data as effectively as the ensemble methods."
      ],
      "metadata": {
        "id": "wx3cEjbM7zZD"
      }
    },
    {
      "cell_type": "markdown",
      "source": [
        "##### Which hyperparameter optimization technique have you used and why?"
      ],
      "metadata": {
        "id": "PiV4Ypx8fxKe"
      }
    },
    {
      "cell_type": "markdown",
      "source": [
        "I have used K-fold cross-validation to ensure the model's performance is robust and to reduce overfitting by validating it on multiple subsets of the dataset. This technique provides a better estimate of the model's ability to generalize to unseen data."
      ],
      "metadata": {
        "id": "negyGRa7fxKf"
      }
    },
    {
      "cell_type": "markdown",
      "source": [
        "#### 3. Explain each evaluation metric's indication towards business and the business impact of the ML model used."
      ],
      "metadata": {
        "id": "bmKjuQ-FpsJ3"
      }
    },
    {
      "cell_type": "markdown",
      "source": [
        "**R² (Coefficient of Determination)**:\n",
        "\n",
        "**Indication**: R² explains how well the model's predictions match the actual data. A higher R² value means the model captures a larger portion of the variability in bike rentals.\n",
        "\n",
        "**Business Impact**: High R² suggests the model is effective in predicting demand, leading to better inventory management, optimized staffing, and improved bike availability, ultimately enhancing customer satisfaction and reducing operational costs.\n",
        "\n",
        "**MSE (Mean Squared Error)**:\n",
        "\n",
        "**Indication**: MSE measures the average squared difference between actual and predicted values. A lower MSE indicates fewer errors in the model's predictions.\n",
        "\n",
        "**Business Impact**: A low MSE ensures accurate demand forecasting, reducing the risk of over- or under-supplying bikes. This improves resource allocation, minimizing maintenance costs, and maximizing bike utilization."
      ],
      "metadata": {
        "id": "BDKtOrBQpsJ3"
      }
    },
    {
      "cell_type": "markdown",
      "source": [
        "# **Conclusion**"
      ],
      "metadata": {
        "id": "gCX9965dhzqZ"
      }
    },
    {
      "cell_type": "markdown",
      "source": [
        "* Bagging Regressor performs best with the highest accuracy and lowest error.\n",
        "* Random Forest Regression shows strong performance but is slightly weaker than Bagging.\n",
        "* Linear Regression has the lowest R² and highest MSE, indicating it captures patterns less effectively.\n",
        "* Summer rentals are higher than winter rentals.\n",
        "* Rentals during holidays are not higher than non-holidays.\n",
        "* Wind speed significantly impacts bike rentals.\n",
        "* Strong correlations exist between rented bike count, hour, and temperature.\n",
        "* Weaker correlations are seen with rainfall and wind speed.\n",
        "* Higher temperatures lead to increased rentals, as shown in the chart.\n",
        "* Outliers in \"Rented_Bike_Count,\" \"Wind_speed,\" and other variables may reflect extreme conditions, affecting demand unpredictably.\n",
        "* The Seasons variable shows a balanced distribution."
      ],
      "metadata": {
        "id": "Fjb1IsQkh3yE"
      }
    },
    {
      "cell_type": "markdown",
      "source": [
        "### ***Hurrah! You have successfully completed your Machine Learning Capstone Project !!!***"
      ],
      "metadata": {
        "id": "gIfDvo9L0UH2"
      }
    }
  ]
}